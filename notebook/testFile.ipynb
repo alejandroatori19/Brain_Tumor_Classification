{
 "cells": [
  {
   "cell_type": "code",
   "execution_count": 2,
   "metadata": {},
   "outputs": [],
   "source": [
    "# Libraries related with the neural net\n",
    "import torch\n",
    "import torch.nn as nn\n",
    "import torch.optim as optim\n",
    "import torchvision\n",
    "import torchvision.transforms as transforms\n",
    "import torchvision.models as models\n",
    "from torch.utils.data import Dataset\n",
    "from torch.utils.data import DataLoader\n",
    "from torch import save\n",
    "\n",
    "# Utils libraries\n",
    "from PIL import Image\n",
    "import os\n",
    "import pandas as pd\n",
    "import time\n",
    "import numpy as np\n",
    "import datetime"
   ]
  },
  {
   "cell_type": "code",
   "execution_count": 3,
   "metadata": {},
   "outputs": [],
   "source": [
    "# Class that manage the neural net\n",
    "class ResNet18Classifier(nn.Module):\n",
    "    def __init__(self, num_classes=4):\n",
    "        super(ResNet18Classifier, self).__init__()\n",
    "        self.model = models.resnet18(weights=models.ResNet18_Weights.IMAGENET1K_V1)  # Load pre-trained ResNet18\n",
    "        in_features = self.model.fc.in_features  # Get the number of input features of the last layer\n",
    "        self.model.fc = nn.Linear(in_features, num_classes)  # Replace the fc layer\n",
    "\n",
    "    def forward(self, x):\n",
    "        return self.model(x)"
   ]
  },
  {
   "cell_type": "code",
   "execution_count": 4,
   "metadata": {},
   "outputs": [],
   "source": [
    "class EarlyStop:\n",
    "    patience = None\n",
    "    best_model = None\n",
    "    threshold_loss = None\n",
    "    verbose = None\n",
    "    best_loss = None\n",
    "    counter = None\n",
    "    stop_training = None\n",
    "    \n",
    "\n",
    "    def __init__(self, patience=2, threshold_loss=0.001, verbose=False):\n",
    "        self.patience = patience\n",
    "        self.threshold_loss = threshold_loss        \n",
    "        self.verbose = verbose\n",
    "        \n",
    "        self.best_loss = np.inf\n",
    "        self.counter = 0\n",
    "        self.stop_training = False\n",
    "        \n",
    "    def checking_conditions (self, epoch_result, model):\n",
    "        # Check if the loss is lower than the best loss.\n",
    "        if self.best_loss > epoch_result['Test Loss'] :\n",
    "            self.best_loss = epoch_result['Test Loss']\n",
    "            self.counter = 0\n",
    "            self.best_model = self.save_model_temporaly (model)\n",
    "            print (\"EARLY STOP: The model is learning correctly. (Best Loss: {}).\".format (self.best_loss))\n",
    "        else:\n",
    "            self.counter += 1\n",
    "            print (\"EARLY STOP: The model is not learning correctly (Counter: {}).\".format (self.counter))\n",
    "\n",
    "            # Check if the counter is greater or equal than the patience\n",
    "            if self.counter >= self.patience:\n",
    "                self.stop_training = True\n",
    "                \n",
    "        # Here assume that the extra information such as loss and model are saved upper\n",
    "        if epoch_result['Test Loss'] < self.threshold_loss:\n",
    "            self.stop_training = True\n",
    "            \n",
    "    def save_model_temporaly (self, model):\n",
    "        # Help to remove the temporal model and avoid overwriting\n",
    "        if os.path.exists (os.path.join (os.getcwd (), \"models\", \"temp_model.pth\")):\n",
    "            os.remove (os.path.join (os.getcwd (), \"models\", \"temp_model.pth\"))\n",
    "        \n",
    "        # Save the model\n",
    "        torch.save (model.state_dict (), os.path.join (os.getcwd (), \"models\", \"temp_model.pth\"))\n",
    "        \n",
    "    def restore_model (self):\n",
    "        model = ResNet18Classifier ()\n",
    "        return model.load_state_dict(torch.load(os.path.join(os.getcwd(), \"models\", \"temp_model.pth\")))"
   ]
  },
  {
   "cell_type": "code",
   "execution_count": 5,
   "metadata": {},
   "outputs": [],
   "source": [
    "model = ResNet18Classifier ()\n",
    "earlyStop = EarlyStop ()"
   ]
  },
  {
   "cell_type": "code",
   "execution_count": null,
   "metadata": {},
   "outputs": [],
   "source": []
  }
 ],
 "metadata": {
  "kernelspec": {
   "display_name": "Python 3",
   "language": "python",
   "name": "python3"
  },
  "language_info": {
   "codemirror_mode": {
    "name": "ipython",
    "version": 3
   },
   "file_extension": ".py",
   "mimetype": "text/x-python",
   "name": "python",
   "nbconvert_exporter": "python",
   "pygments_lexer": "ipython3",
   "version": "3.12.6"
  }
 },
 "nbformat": 4,
 "nbformat_minor": 2
}
